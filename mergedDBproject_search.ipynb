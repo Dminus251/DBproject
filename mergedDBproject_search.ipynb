{
 "cells": [
  {
   "cell_type": "code",
   "execution_count": 2,
   "id": "4af79d4f",
   "metadata": {},
   "outputs": [],
   "source": [
    "#필요한 라이브러리 설치\n",
    "import csv\n",
    "import firebase_admin\n",
    "from firebase_admin import credentials\n",
    "from firebase_admin import db\n",
    "from haversine import haversine\n",
    "import sqlite3"
   ]
  },
  {
   "cell_type": "code",
   "execution_count": 3,
   "id": "46b508c5",
   "metadata": {},
   "outputs": [
    {
     "data": {
      "text/plain": [
       "<firebase_admin.App at 0x206cf01fa90>"
      ]
     },
     "execution_count": 3,
     "metadata": {},
     "output_type": "execute_result"
    }
   ],
   "source": [
    "#csv데이터를 2차원 리스트로 불러오기\n",
    "f = open('cultureFestival.csv', 'r')\n",
    "reader = csv.reader(f)\n",
    "rows = []\n",
    "for i in reader:\n",
    "        rows.append(i) #파일 가져오기\n",
    "f.close()\n",
    "\n",
    "#default firebase database 설정\n",
    "cred = credentials.Certificate('dbKey.json')\n",
    "firebase_admin.initialize_app(cred, {\n",
    "    'databaseURL' : 'https://dbproject-b1bec-default-rtdb.firebaseio.com/' \n",
    "    \n",
    "})"
   ]
  },
  {
   "cell_type": "code",
   "execution_count": 7,
   "id": "1fecee71",
   "metadata": {},
   "outputs": [],
   "source": [
    "#csv데이터를 2차원 리스트로 불러오기\n",
    "f = open('cultureFestival.csv', 'r')\n",
    "reader = csv.reader(f)\n",
    "rows = []\n",
    "for i in reader:\n",
    "        rows.append(i) #파일 가져오기\n",
    "f.close()\n",
    "\n",
    "\n",
    "#rows를 sqlite에 저장한다.\n",
    "conn = sqlite3.connect('cultureFstv.db')\n",
    "cursor = conn.cursor()\n",
    "cursor.execute('DROP TABLE mytable') #db 초기화\n",
    "cursor.execute('''\n",
    "    CREATE TABLE IF NOT EXISTS mytable (\n",
    "        festvlNm TEXT,\n",
    "        opar TEXT,\n",
    "        fsvlStartData Text,\n",
    "        fstvEndData Text,\n",
    "        fstvlCo Text,\n",
    "        mnnstNm Text,\n",
    "        auspcInsttNm Text,\n",
    "        suprtInsttNm Text,\n",
    "        phoneNumber Text,\n",
    "        humpageUrl Text,\n",
    "        realteInfo Text,\n",
    "        rdnmadr Text,\n",
    "        lnmadr Text,\n",
    "        latitude Text,\n",
    "        longitude Text,\n",
    "        referenceData Text,\n",
    "        instt_code Text,\n",
    "        instt_nm Text,\n",
    "        distance Text\n",
    "    )\n",
    "''')\n",
    "\n",
    "for i in range(1, len(rows)):\n",
    "    cursor.execute('INSERT INTO mytable VALUES (?, ?, ?, ?, ?, ?, ?, ?, ?, ?, ?, ?, ?, ?, ?, ?, ?, ?, ?)', rows[i])\n",
    "    conn.commit()\n",
    "\n",
    "keyword = \"인천\" #안드로이드에서 사용자에게 입력받은 값\n",
    "\n",
    "# 파이어베이스에 데이터 업로드\n",
    "db_ref = db.reference('search')\n",
    "db_ref.delete() #디렉토리 초기화\n",
    "results = cursor.execute(f\"SELECT * FROM mytable WHERE festvlNm LIKE '%{keyword}%' LIMIT 10\").fetchall()\n",
    "\n",
    "cnt = 0\n",
    "for i in results:\n",
    "    data = {\n",
    "            '축제 이름': i[0],\n",
    "            '개최지': i[1],\n",
    "            '시작일': i[2],\n",
    "            '종료일': i[3],\n",
    "            '축제 내용': i[4],\n",
    "            '전화번호': i[5],\n",
    "            '홈페이지 주소': i[6],\n",
    "            '관련 정보': i[7],\n",
    "            '도로명 주소': i[8],\n",
    "            '지번 주소': i[9],\n",
    "            '거리': i[10]\n",
    "        }\n",
    "    db_ref.child(str(cnt)).set(data)\n",
    "    cnt += 1\n",
    "\n"
   ]
  },
  {
   "cell_type": "code",
   "execution_count": null,
   "id": "e16e9a00",
   "metadata": {},
   "outputs": [],
   "source": []
  }
 ],
 "metadata": {
  "kernelspec": {
   "display_name": "Python 3 (ipykernel)",
   "language": "python",
   "name": "python3"
  },
  "language_info": {
   "codemirror_mode": {
    "name": "ipython",
    "version": 3
   },
   "file_extension": ".py",
   "mimetype": "text/x-python",
   "name": "python",
   "nbconvert_exporter": "python",
   "pygments_lexer": "ipython3",
   "version": "3.11.4"
  }
 },
 "nbformat": 4,
 "nbformat_minor": 5
}
