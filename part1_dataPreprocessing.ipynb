{
 "cells": [
  {
   "cell_type": "code",
   "execution_count": 22,
   "id": "6f4c9fd5",
   "metadata": {},
   "outputs": [],
   "source": [
    "import requests\n",
    "import json\n",
    "import sqlite3\n",
    "from urllib.parse import unquote"
   ]
  },
  {
   "cell_type": "markdown",
   "id": "cafc9ef5",
   "metadata": {},
   "source": [
    "# Request\n",
    "### request로 open AI를 이용하려고 했으나 csv 파일로 처리가 가능할 것 같아서 사용하지 않음"
   ]
  },
  {
   "cell_type": "code",
   "execution_count": 77,
   "id": "94907020",
   "metadata": {},
   "outputs": [],
   "source": [
    "API_KEY = unquote('yTgRonec4t9G1QvTLdIZnqJjoqI4q%2BAh5D6%2BofqrynIU%2BUqHt6Rn6DJovgZRFa6ghJXFeYoLGXczD%2ByXOFajYQ%3D%3D')\n",
    "url = 'http://api.data.go.kr/openapi/tn_pubr_public_cltur_fstvl_api'\n",
    "# params ={'serviceKey' : API_KEY, \n",
    "#          'pageNo' : '1', \n",
    "#          'numOfRows' : '100', \n",
    "#          'type' : 'json', \n",
    "#          'fstvlNm' : '서면 드림 축제', \n",
    "#          'opar' : '',\n",
    "#          'fstvlStartDate' : '', \n",
    "#          'fstvlEndDate' : '', \n",
    "#          'fstvlCo' : '',\n",
    "#          'mnnstNm' : '', \n",
    "#          'auspcInsttNm' : '', \n",
    "#          'suprtInsttNm' : '', \n",
    "#          'phoneNumber' : '', \n",
    "#          'homepageUrl' : '', \n",
    "#          'relateInfo' : '',\n",
    "#          'rdnmadr' : '',\n",
    "#          'lnmadr' : '', \n",
    "#          'latitude' : '', \n",
    "#          'longitude' : '', \n",
    "#          'referenceDate' : '', \n",
    "#          'instt_code' : '',\n",
    "#          'instt_nm' : '' }\n",
    "\n",
    "params = {'serviceKey' : API_KEY, \n",
    "         'pageNo' : '1', \n",
    "         'numOfRows' : '100', \n",
    "         'type' : 'json',\n",
    "          'fstvlNM' : '서면 드림 축제'}\n",
    "\n",
    "#아하.. 공백일 땐 아예 params에서 빼야 정상적으로 실행되네...\n",
    "\n",
    "response = requests.get(url, params=params)\n",
    "print(response.json())\n",
    "\n"
   ]
  },
  {
   "cell_type": "markdown",
   "id": "ace2fdb9",
   "metadata": {},
   "source": [
    "# Geocode"
   ]
  },
  {
   "cell_type": "code",
   "execution_count": 38,
   "id": "2d91ff17",
   "metadata": {},
   "outputs": [],
   "source": [
    "def getGeoCode(address, client_id, client_secret):\n",
    "    header={\n",
    "        \"X-NCP-APIGW-API-KEY-ID\": client_id,\n",
    "        \"X-NCP-APIGW-API-KEY\": client_secret,\n",
    "    }\n",
    "    endpoint=\"https://naveropenapi.apigw.ntruss.com/map-geocode/v2/geocode\"\n",
    "    url = f\"{endpoint}?query={address}\"\n",
    "    \n",
    "    res = requests.get(url, headers=header)\n",
    "    \n",
    "    return res\n",
    "\n"
   ]
  },
  {
   "cell_type": "code",
   "execution_count": 88,
   "id": "02ce5800",
   "metadata": {},
   "outputs": [],
   "source": [
    "def geoCode(adr, client_id, client_secret):\n",
    "    address = adr\n",
    "    \n",
    "    response = getGeoCode(address, client_id, client_secret)\n",
    "   \n",
    "    if(response.status_code == 200):\n",
    "            result = response.json()\n",
    "            result_lst = [result['addresses'][0]['x'], result['addresses'][0]['y']]\n",
    "            return result_lst\n",
    "    else:\n",
    "            print(f'Error code: {response}')"
   ]
  },
  {
   "cell_type": "markdown",
   "id": "47d5c55d",
   "metadata": {},
   "source": [
    "## 데이터 전처리: geoCode()로 위도와 경도 값을 구한다.\n",
    "### 모든 튜플에는 도로명주소(11열) 또는 지번주소(12열)이 적혀있다.\n",
    "### step 1. 도로명 주소만 존재하는데이터 처리"
   ]
  },
  {
   "cell_type": "code",
   "execution_count": 44,
   "id": "3ddfc756",
   "metadata": {},
   "outputs": [
    {
     "name": "stdout",
     "output_type": "stream",
     "text": [
      "0.568098783493042\n"
     ]
    }
   ],
   "source": [
    "import csv\n",
    "#csv 파일 열기\n",
    "f = open('cultureFestival.csv', 'r', newline='')\n",
    "reader = csv.reader(f)\n",
    "gis =[\"5twl61m1m1\", \"DtCxHuTaLRrjAkvIOXQPJTrBNP2CAngMOevgmJ2a\"] #gis[0] = geoCode id, gis[1] = geoCode secret\n",
    "rows = list(reader)\n",
    "f.close()\n",
    "\n",
    "for i in range(1, len(rows)):\n",
    "    if rows[i][11] != '' and rows[i][13] == '' and rows[i][14] == '': #도로명 주소가 주어졌지만 위도, 경도는 주어지지 않은 경우\n",
    "        try:\n",
    "            result = geoCode(rows[i][11], gis[0], gis[1]) #result[0]은 경도, result[1]은 위도\n",
    "            rows[i][14] = result[0]\n",
    "            rows[i][13] = result[1]\n",
    "        except:\n",
    "            continue\n",
    "f.close()"
   ]
  },
  {
   "cell_type": "markdown",
   "id": "3a2026a9",
   "metadata": {},
   "source": [
    "### step2. 지번주소만 존재하는 데이터 처리"
   ]
  },
  {
   "cell_type": "code",
   "execution_count": 52,
   "id": "b14a11e4",
   "metadata": {},
   "outputs": [
    {
     "name": "stdout",
     "output_type": "stream",
     "text": [
      "6.544418811798096\n"
     ]
    }
   ],
   "source": [
    "import csv\n",
    "import time\n",
    "start_time = time.time()\n",
    "#csv 파일 열기\n",
    "f = open('cultureFestival.csv', 'r', newline='')\n",
    "reader = csv.reader(f)\n",
    "gis =[\"5twl61m1m1\", \"DtCxHuTaLRrjAkvIOXQPJTrBNP2CAngMOevgmJ2a\"] #gis[0] = geoCode id, gis[1] = geoCode secret\n",
    "rows = list(reader)\n",
    "f.close()\n",
    "\n",
    "for i in range(1, len(rows)):\n",
    "    if rows[i][12] != '' and rows[i][13] == '' and rows[i][14] == '': #도로명 주소가 주어졌지만 위도, 경도는 주어지지 않은 경우\n",
    "        try:\n",
    "            result = geoCode(rows[i][12], gis[0], gis[1]) #result[0]은 경도, result[1]은 위도\n",
    "            rows[i][14] = result[0]\n",
    "            rows[i][13] = result[1]\n",
    "        except:\n",
    "            continue\n",
    "\n",
    "\n",
    "f = open('cultureFestival.csv', 'w', newline='')\n",
    "writer = csv.writer(f)\n",
    "writer.writerows(rows)\n",
    "f.close()\n",
    "\n",
    "print(time.time() -start_time)"
   ]
  },
  {
   "cell_type": "markdown",
   "id": "bdc67b33",
   "metadata": {},
   "source": [
    "### 아직도 처리되지 않은 데이터가 있는지 확인"
   ]
  },
  {
   "cell_type": "code",
   "execution_count": 53,
   "id": "dcb61b01",
   "metadata": {},
   "outputs": [
    {
     "name": "stdout",
     "output_type": "stream",
     "text": [
      "202 지봉로 상사화 축제\n",
      "613 대왕암 해맞이 축제\n",
      "1322 서리풀페스티벌\n",
      "1325 악기거리축제\n"
     ]
    }
   ],
   "source": [
    "for i in range(len(rows)):\n",
    "    if rows[i][13] == '' or rows[i][14] == '':\n",
    "        print(i+1, rows[i][0])\n",
    "#202, 613, 1322, 1325행의 데이터들이 처리되지 않았다.        "
   ]
  },
  {
   "cell_type": "code",
   "execution_count": 59,
   "id": "160e059b",
   "metadata": {},
   "outputs": [
    {
     "name": "stdout",
     "output_type": "stream",
     "text": [
      "202:  전라남도 순천시 장명로 30 613:  울산광역시 동구 문현3길 6 1322:  서울특별시 서초구 남부순환로356길 15 1325:   서울특별시 서초구 잠원동 58-14\n"
     ]
    }
   ],
   "source": [
    "print('202: ', rows[202][11], '613: ',rows[613][11], '1322: ',rows[1322][11], '1325: ',rows[1325][11], rows[1325][12])\n",
    "#202, 613, 1322행은 도로명 주소, 1325행은 지번주소만 나와있다."
   ]
  },
  {
   "cell_type": "code",
   "execution_count": 64,
   "id": "8633be2d",
   "metadata": {},
   "outputs": [
    {
     "name": "stdout",
     "output_type": "stream",
     "text": [
      "{'status': 'OK', 'meta': {'totalCount': 1, 'page': 1, 'count': 1}, 'addresses': [{'roadAddress': '전라남도 순천시 장명로 30 순천시청', 'jibunAddress': '전라남도 순천시 장천동 53-1 순천시청', 'englishAddress': '30, Jangmyeong-ro, Suncheon-si, Jeollanam-do, Republic of Korea', 'addressElements': [{'types': ['SIDO'], 'longName': '전라남도', 'shortName': '전라남도', 'code': ''}, {'types': ['SIGUGUN'], 'longName': '순천시', 'shortName': '순천시', 'code': ''}, {'types': ['DONGMYUN'], 'longName': '장천동', 'shortName': '장천동', 'code': ''}, {'types': ['RI'], 'longName': '', 'shortName': '', 'code': ''}, {'types': ['ROAD_NAME'], 'longName': '장명로', 'shortName': '장명로', 'code': ''}, {'types': ['BUILDING_NUMBER'], 'longName': '30', 'shortName': '30', 'code': ''}, {'types': ['BUILDING_NAME'], 'longName': '순천시청', 'shortName': '순천시청', 'code': ''}, {'types': ['LAND_NUMBER'], 'longName': '53-1', 'shortName': '53-1', 'code': ''}, {'types': ['POSTAL_CODE'], 'longName': '57956', 'shortName': '57956', 'code': ''}], 'x': '127.4872430', 'y': '34.9506984', 'distance': 0.0}], 'errorMessage': ''}\n",
      "\n",
      "{'status': 'OK', 'meta': {'totalCount': 1, 'page': 1, 'count': 1}, 'addresses': [{'roadAddress': '울산광역시 동구 문현3길 6 꽃바위문화관', 'jibunAddress': '울산광역시 동구 방어동 1120-1 꽃바위문화관', 'englishAddress': '6, Munhyeon 3-gil, Dong-gu, Ulsan, Republic of Korea', 'addressElements': [{'types': ['SIDO'], 'longName': '울산광역시', 'shortName': '울산광역시', 'code': ''}, {'types': ['SIGUGUN'], 'longName': '동구', 'shortName': '동구', 'code': ''}, {'types': ['DONGMYUN'], 'longName': '방어동', 'shortName': '방어동', 'code': ''}, {'types': ['RI'], 'longName': '', 'shortName': '', 'code': ''}, {'types': ['ROAD_NAME'], 'longName': '문현3길', 'shortName': '문현3길', 'code': ''}, {'types': ['BUILDING_NUMBER'], 'longName': '6', 'shortName': '6', 'code': ''}, {'types': ['BUILDING_NAME'], 'longName': '꽃바위문화관', 'shortName': '꽃바위문화관', 'code': ''}, {'types': ['LAND_NUMBER'], 'longName': '1120-1', 'shortName': '1120-1', 'code': ''}, {'types': ['POSTAL_CODE'], 'longName': '44093', 'shortName': '44093', 'code': ''}], 'x': '129.4112834', 'y': '35.4870810', 'distance': 0.0}], 'errorMessage': ''}\n",
      "\n",
      "{'status': 'OK', 'meta': {'totalCount': 1, 'page': 1, 'count': 1}, 'addresses': [{'roadAddress': '서울특별시 서초구 남부순환로356길 15 양재종합시장', 'jibunAddress': '서울특별시 서초구 양재동 1-7 양재종합시장', 'englishAddress': '15, Nambusunhwan-ro 356-gil, Seocho-gu, Seoul, Republic of Korea', 'addressElements': [{'types': ['SIDO'], 'longName': '서울특별시', 'shortName': '서울특별시', 'code': ''}, {'types': ['SIGUGUN'], 'longName': '서초구', 'shortName': '서초구', 'code': ''}, {'types': ['DONGMYUN'], 'longName': '양재동', 'shortName': '양재동', 'code': ''}, {'types': ['RI'], 'longName': '', 'shortName': '', 'code': ''}, {'types': ['ROAD_NAME'], 'longName': '남부순환로356길', 'shortName': '남부순환로356길', 'code': ''}, {'types': ['BUILDING_NUMBER'], 'longName': '15', 'shortName': '15', 'code': ''}, {'types': ['BUILDING_NAME'], 'longName': '양재종합시장', 'shortName': '양재종합시장', 'code': ''}, {'types': ['LAND_NUMBER'], 'longName': '1-7', 'shortName': '1-7', 'code': ''}, {'types': ['POSTAL_CODE'], 'longName': '06738', 'shortName': '06738', 'code': ''}], 'x': '127.0379729', 'y': '37.4843263', 'distance': 0.0}], 'errorMessage': ''}\n",
      "\n",
      "{'status': 'OK', 'meta': {'totalCount': 1, 'page': 1, 'count': 1}, 'addresses': [{'roadAddress': '', 'jibunAddress': '서울특별시 서초구 잠원동 58-14', 'englishAddress': '58-14, Jamwon-dong, Seocho-gu, Seoul, Republic of Korea', 'addressElements': [{'types': ['SIDO'], 'longName': '서울특별시', 'shortName': '서울특별시', 'code': ''}, {'types': ['SIGUGUN'], 'longName': '서초구', 'shortName': '서초구', 'code': ''}, {'types': ['DONGMYUN'], 'longName': '잠원동', 'shortName': '잠원동', 'code': ''}, {'types': ['RI'], 'longName': '', 'shortName': '', 'code': ''}, {'types': ['ROAD_NAME'], 'longName': '', 'shortName': '', 'code': ''}, {'types': ['BUILDING_NUMBER'], 'longName': '', 'shortName': '', 'code': ''}, {'types': ['BUILDING_NAME'], 'longName': '', 'shortName': '', 'code': ''}, {'types': ['LAND_NUMBER'], 'longName': '58-14', 'shortName': '58-14', 'code': ''}, {'types': ['POSTAL_CODE'], 'longName': '', 'shortName': '', 'code': ''}], 'x': '127.0142882', 'y': '37.5142565', 'distance': 0.0}], 'errorMessage': ''}\n"
     ]
    }
   ],
   "source": [
    "#왜 처리가 안 됐는진 모르겠으나, 처리하기 위해 geoCode의 리턴값을 수정해서 데이터에 이상이 있는지 확인한다. -> 이상 없음\n",
    "def geoCode(adr, client_id, client_secret):\n",
    "    address = adr\n",
    "    \n",
    "    response = getGeoCode(address, client_id, client_secret)\n",
    "   \n",
    "    if(response.status_code == 200):\n",
    "            result = response.json()\n",
    "            return result\n",
    "    else:\n",
    "            print(f'Error code: {response}')\n",
    "result1 = geoCode('전라남도 순천시 장명로 30', gis[0], gis[1])\n",
    "print(result1)\n",
    "print()\n",
    "\n",
    "result2 = geoCode('울산광역시 동구 문현3길 6', gis[0], gis[1])\n",
    "print(result2)\n",
    "print()\n",
    "\n",
    "result3 = geoCode('서울특별시 서초구 남부순환로356길 15', gis[0], gis[1])\n",
    "print(result3)\n",
    "print()\n",
    "\n",
    "result4 = geoCode('서울특별시 서초구 잠원동 58-14', gis[0], gis[1])\n",
    "print(result4)"
   ]
  },
  {
   "cell_type": "code",
   "execution_count": 68,
   "id": "2fab0b6b",
   "metadata": {},
   "outputs": [
    {
     "name": "stdout",
     "output_type": "stream",
     "text": [
      "127.4872430 34.9506984\n",
      "129.4112834 35.4870810\n",
      "127.0379729 37.4843263\n",
      "127.0142882 37.5142565\n"
     ]
    }
   ],
   "source": [
    "#result_lst = [result['addresses'][0]['x'], result['addresses'][0]['y']]\n",
    "print(result1['addresses'][0]['x'], result1['addresses'][0]['y'])\n",
    "print(result2['addresses'][0]['x'], result2['addresses'][0]['y'])\n",
    "print(result3['addresses'][0]['x'], result3['addresses'][0]['y'])\n",
    "print(result4['addresses'][0]['x'], result4['addresses'][0]['y'])"
   ]
  },
  {
   "cell_type": "code",
   "execution_count": 89,
   "id": "bd7eac0c",
   "metadata": {},
   "outputs": [],
   "source": [
    "#직접 추가 후 다시 csv 파일에 작성\n",
    "rows[201][14] = result1['addresses'][0]['x']\n",
    "rows[201][13] = result1['addresses'][0]['y']\n",
    "\n",
    "rows[612][14] = result2['addresses'][0]['x']\n",
    "rows[612][13] = result2['addresses'][0]['y']\n",
    "\n",
    "rows[1321][14] = result3['addresses'][0]['x']\n",
    "rows[1321][13] = result3['addresses'][0]['y']\n",
    "\n",
    "rows[1324][14] = result3['addresses'][0]['x']\n",
    "rows[1324][13] = result3['addresses'][0]['y']\n",
    "\n",
    "f = open('cultureFestival.csv', 'w', newline='')\n",
    "writer = csv.writer(f)\n",
    "writer.writerows(rows)\n",
    "f.close()\n",
    "for i in range(len(rows)):\n",
    "    if rows[i][13] == '' or rows[i][14] == '':\n",
    "        print(i+1, rows[i][0])"
   ]
  },
  {
   "cell_type": "markdown",
   "id": "82afdbed",
   "metadata": {},
   "source": [
    "### 위 코드에서 출력 결과가 없으므로 모든 데이터에 위도와 경도가 입력됐다.\n",
    "### step3. 데이터가 없을 경우 값을 NULL로 만든다. 또한 내 위치와 문화축제지까지의 거리를 넣을 인덱스를 각 rows의len(rows) 자리에 빈 칸으로 생성해놓는다."
   ]
  },
  {
   "cell_type": "code",
   "execution_count": 22,
   "id": "4901b3e0",
   "metadata": {},
   "outputs": [],
   "source": [
    "import csv\n",
    "#파일을 열어서 데이터 수정\n",
    "f = open('cultureFestival.csv', 'r', newline='')\n",
    "reader = csv.reader(f)\n",
    "rows = list(reader)\n",
    "f.close()\n",
    "\n",
    "for i in range(len(rows)):\n",
    "    rows[i].append('')\n",
    "    for j in range(len(rows[0])):\n",
    "        if rows[i][j] == '':\n",
    "            rows[i][j] = 'NULL'"
   ]
  },
  {
   "cell_type": "code",
   "execution_count": 24,
   "id": "24d9e990",
   "metadata": {},
   "outputs": [
    {
     "name": "stdout",
     "output_type": "stream",
     "text": [
      "['축제명', '개최장소', '축제시작일자', '축제종료일자', '축제내용', '주관기관명', '주최기관명', '후원기관명', '전화번호', '홈페이지주소', '관련정보', '소재지도로명주소', '소재지지번주소', '위도', '경도', '데이터기준일자', '제공기관코드', '제공기관명', ' ']\n",
      "['2022년 순천민주주의 정책 페스티벌', '부읍성남문터광장(예정)', '2022-11-12', '2022-11-12', '시민공론장, 민주주의정책 홍보관, 배움터, 체험 등', '전라남도 순천시청', '전라남도 순천시청', 'NULL', '061-749-5554', 'NULL', '축제일정 변동가능', '전라남도 순천시 중앙로 93', 'NULL', '34.9539016', '127.4831807', '2022-09-19', '4820000', '전라남도 순천시', ' ']\n"
     ]
    }
   ],
   "source": [
    "print(rows[0])\n",
    "print(rows[1])"
   ]
  },
  {
   "cell_type": "code",
   "execution_count": 25,
   "id": "85093c73",
   "metadata": {},
   "outputs": [],
   "source": [
    "#수정된 데이터를 csv에 다시 작성\n",
    "f = open('cultureFestival.csv', 'w', newline='')\n",
    "writer = csv.writer(f)\n",
    "writer.writerows(rows)\n",
    "f.close()"
   ]
  },
  {
   "cell_type": "code",
   "execution_count": null,
   "id": "aafcf4b3",
   "metadata": {},
   "outputs": [],
   "source": []
  }
 ],
 "metadata": {
  "kernelspec": {
   "display_name": "Python 3 (ipykernel)",
   "language": "python",
   "name": "python3"
  },
  "language_info": {
   "codemirror_mode": {
    "name": "ipython",
    "version": 3
   },
   "file_extension": ".py",
   "mimetype": "text/x-python",
   "name": "python",
   "nbconvert_exporter": "python",
   "pygments_lexer": "ipython3",
   "version": "3.11.4"
  }
 },
 "nbformat": 4,
 "nbformat_minor": 5
}
